{
  "nbformat": 4,
  "nbformat_minor": 0,
  "metadata": {
    "colab": {
      "provenance": [],
      "include_colab_link": true
    },
    "kernelspec": {
      "name": "python3",
      "display_name": "Python 3"
    },
    "language_info": {
      "name": "python"
    }
  },
  "cells": [
    {
      "cell_type": "markdown",
      "metadata": {
        "id": "view-in-github",
        "colab_type": "text"
      },
      "source": [
        "<a href=\"https://colab.research.google.com/github/tswhy1/AIFFEL_quest_cr_YHS/blob/main/python/Py4/untitled.ipynb\" target=\"_parent\"><img src=\"https://colab.research.google.com/assets/colab-badge.svg\" alt=\"Open In Colab\"/></a>"
      ]
    },
    {
      "cell_type": "code",
      "source": [
        "import math\n",
        "#1 입력값 ≠ 정수 → ValueError 처리\n",
        "def integer_input(prompt):\n",
        "    while True: #정수를 입력할 때까지 반복\n",
        "        try:\n",
        "            input_num = int(input(prompt))\n",
        "            return input_num\n",
        "        except ValueError: #2 잘못된 입력 → 예외처리\n",
        "            print(\"잘못된 입력입니다. 정수를 입력해주세요.\")\n",
        "\n",
        "# 연산식 정의\n",
        "def calculator():\n",
        "\n",
        "    num1 = integer_input(\"첫번째 정수를 입력하세요: \")\n",
        "\n",
        "    while True:\n",
        "        operator = input(\"연산자를 입력하세요(+, -, *, /, **): \")\n",
        "        if operator in ['+','-','*','/','**']: # 4-1.지원하지 않는 연산자 예외처리\n",
        "            break\n",
        "        else:\n",
        "            print(\"지원하지 않는 연산자입니다.\") # 4-2.예외처리 메세지\n",
        "\n",
        "\n",
        "    num2 = integer_input(\"두번째 정수를 입력하세요: \")\n",
        "\n",
        "\n",
        "    try:\n",
        "        if operator == '+':\n",
        "            return num1 + num2\n",
        "        elif operator == '-':\n",
        "            return num1 - num2\n",
        "        elif operator == '*':\n",
        "            return num1 * num2\n",
        "        elif operator == '/':\n",
        "            return num1 / num2\n",
        "        elif operator == '**':\n",
        "            return math.pow(num1, num2)  # 5.math.pow 모듈 함수 사용\n",
        "\n",
        "\n",
        "        result = calculator()\n",
        "        print(f\"계산결과: {num1} {operator} {num2} = {result}\")\n",
        "\n",
        "\n",
        "    except ZeroDivisionError:\n",
        "        print(\"0으로 나눌 수 없습니다.\") # 3. 나눗셈에서 0으로 나눌 수 없는 경우 예외처리\n",
        "\n",
        "\n",
        "\n",
        "# 계산 실행\n",
        "\n",
        "while True:\n",
        "    calculator()\n",
        "    continue_input = input(\"계속하시겠습니까? (y/n): \")\n",
        "    if continue_input not in ['y','n']:\n",
        "        print(\"잘못된 입력입니다. y 또는 n을 입력해주세요.\")\n",
        "    elif continue_input == 'n':\n",
        "        print(\"계산기를 종료합니다.\")\n",
        "        break\n",
        "\n",
        "def repeat_calcultor():\n",
        "    while True:\n",
        "        calculator()\n",
        "        continue_input = input(\"계속하시겠습니까? (y/n): \")\n",
        "        if continue_input not in ['y','n']:\n",
        "            print(\"잘못된 입력입니다. y 또는 n을 입력해주세요.\")\n",
        "        elif continue_input == 'n':\n",
        "            print(\"계산기를 종료합니다.\")\n",
        "            break\n",
        "\n",
        "repeat_calcultor()\n",
        "\n",
        "\n"
      ],
      "metadata": {
        "id": "-DTFeJcgVsg1"
      },
      "execution_count": null,
      "outputs": []
    },
    {
      "cell_type": "markdown",
      "source": [
        "# 새 섹션"
      ],
      "metadata": {
        "id": "E0S2s6UktWVT"
      }
    },
    {
      "cell_type": "markdown",
      "source": [
        "# 새 섹션"
      ],
      "metadata": {
        "id": "XOlX2_KDtbYT"
      }
    }
  ]
}